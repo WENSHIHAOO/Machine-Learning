{
 "cells": [
  {
   "cell_type": "code",
   "execution_count": 1,
   "metadata": {},
   "outputs": [],
   "source": [
    "import numpy as np\n",
    "import matplotlib.pyplot as plt\n",
    "import datetime\n",
    "import copy\n",
    "import scipy.io as sio"
   ]
  },
  {
   "cell_type": "code",
   "execution_count": 2,
   "metadata": {},
   "outputs": [
    {
     "data": {
      "text/plain": [
       "\"\\n#load data\\n\\n#data source: https://finance.yahoo.com/quote/%5EGSPC/history/\\n\\nweeks_after_start = []\\ndewtemp = []\\n\\nf = open('localweather.csv')\\nheader = f.readline()\\nidx = header.split(',').index('HourlyDewPointTemperatureC')\\nstartdate = None\\nline = f.readline()\\n\\nwhile len(line) > 0:\\n    splitline = line.split(',')\\n    \\n    #load day\\n    dt = splitline[5].split(' ')\\n    d = dt[0].split('-')\\n    t = dt[1].split(':')\\n    \\n    d = int(d[0]),int(d[1]),int(d[2])    \\n    t = int(t[0]), int(t[1])\\n    d = datetime.datetime(year=d[0],month=d[1],day=d[2], hour=t[0],minute=d[1])\\n    if startdate is None:\\n        startdate = copy.deepcopy(d)\\n    \\n    if  len(splitline[idx].strip('')) == 0: \\n        line = f.readline()\\n        continue\\n    weeks_after_start.append((d - startdate).seconds/( 24 * 60 * 60*7 +0.) + (d-startdate).days/7.)\\n    \\n    dewtemp.append(float(splitline[idx]))\\n\\n    line = f.readline()\\n\\nweeks_after_start, dewtemp = np.array(weeks_after_start), np.array(dewtemp)\\nplt.plot(weeks_after_start, dewtemp)\\n\\nplt.xlabel('Weeks after first reading')\\nplt.ylabel('Dew point temp (C)')\\nplt.tight_layout()\\nplt.savefig('polyfit_hw1_0.png')\\nplt.savefig('polyfit_hw1_0.eps')\\nN = len(weeks_after_start)\\n\\nsio.savemat('weatherDewTmp.mat',{'weeks':weeks_after_start,'dew':dewtemp})\\nprint N\\n\""
      ]
     },
     "execution_count": 2,
     "metadata": {},
     "output_type": "execute_result"
    }
   ],
   "source": [
    "\n",
    "##In case you were wondering how I prepared the data\n",
    "\"\"\"\n",
    "#load data\n",
    "\n",
    "#data source: https://finance.yahoo.com/quote/%5EGSPC/history/\n",
    "\n",
    "weeks_after_start = []\n",
    "dewtemp = []\n",
    "\n",
    "f = open('localweather.csv')\n",
    "header = f.readline()\n",
    "idx = header.split(',').index('HourlyDewPointTemperatureC')\n",
    "startdate = None\n",
    "line = f.readline()\n",
    "\n",
    "while len(line) > 0:\n",
    "    splitline = line.split(',')\n",
    "    \n",
    "    #load day\n",
    "    dt = splitline[5].split(' ')\n",
    "    d = dt[0].split('-')\n",
    "    t = dt[1].split(':')\n",
    "    \n",
    "    d = int(d[0]),int(d[1]),int(d[2])    \n",
    "    t = int(t[0]), int(t[1])\n",
    "    d = datetime.datetime(year=d[0],month=d[1],day=d[2], hour=t[0],minute=d[1])\n",
    "    if startdate is None:\n",
    "        startdate = copy.deepcopy(d)\n",
    "    \n",
    "    if  len(splitline[idx].strip('')) == 0: \n",
    "        line = f.readline()\n",
    "        continue\n",
    "    weeks_after_start.append((d - startdate).seconds/( 24 * 60 * 60*7 +0.) + (d-startdate).days/7.)\n",
    "    \n",
    "    dewtemp.append(float(splitline[idx]))\n",
    "\n",
    "    line = f.readline()\n",
    "\n",
    "weeks_after_start, dewtemp = np.array(weeks_after_start), np.array(dewtemp)\n",
    "plt.plot(weeks_after_start, dewtemp)\n",
    "\n",
    "plt.xlabel('Weeks after first reading')\n",
    "plt.ylabel('Dew point temp (C)')\n",
    "plt.tight_layout()\n",
    "plt.savefig('polyfit_hw1_0.png')\n",
    "plt.savefig('polyfit_hw1_0.eps')\n",
    "N = len(weeks_after_start)\n",
    "\n",
    "sio.savemat('weatherDewTmp.mat',{'weeks':weeks_after_start,'dew':dewtemp})\n",
    "print N\n",
    "\"\"\"\n",
    "\n"
   ]
  },
  {
   "cell_type": "code",
   "execution_count": 3,
   "metadata": {},
   "outputs": [
    {
     "name": "stdout",
     "output_type": "stream",
     "text": [
      "742\n"
     ]
    },
    {
     "data": {
      "image/png": "[encoded data removed]",
      "text/plain": [
       "<Figure size 432x288 with 1 Axes>"
      ]
     },
     "metadata": {
      "needs_background": "light"
     },
     "output_type": "display_data"
    }
   ],
   "source": [
    "#This cell forms the mat file you were already given\n",
    "data = sio.loadmat('weatherDewTmp.mat')\n",
    "weeks_after_start = data['weeks'][0]\n",
    "dewtemp = data['dew'][0]\n",
    "N = len(dewtemp)\n",
    "plt.plot(weeks_after_start, dewtemp)\n",
    "plt.xlabel('Week after first reading')\n",
    "plt.ylabel('Dew temperature')\n",
    "print(N)"
   ]
  },
  {
   "cell_type": "code",
   "execution_count": 4,
   "metadata": {},
   "outputs": [
    {
     "name": "stdout",
     "output_type": "stream",
     "text": [
      "Check number:  0\n"
     ]
    }
   ],
   "source": [
    "def packX(z,poly_order):\n",
    "    X = np.zeros((len(z),poly_order+1))\n",
    "    return X\n",
    "\n",
    "\n",
    "def solveLinearSystem(X,y):\n",
    "    theta = 0\n",
    "    return theta\n",
    "\n",
    "# TEST SCRIPT. DO NOT MODIFY!\n",
    "X = packX(range(100),3)\n",
    "y = np.sqrt(np.array(range(100)))\n",
    "theta = solveLinearSystem(X,y)\n",
    "print('Check number: ', np.sum(theta))\n"
   ]
  },
  {
   "cell_type": "code",
   "execution_count": 5,
   "metadata": {},
   "outputs": [
    {
     "name": "stdout",
     "output_type": "stream",
     "text": [
      "Check number:  0\n"
     ]
    }
   ],
   "source": [
    "\n",
    "\n",
    "def solveRidgeRegressionSystem(X,y,rho):\n",
    "    theta = 0\n",
    "    return theta\n",
    "\n",
    "# TEST SCRIPT. DO NOT MODIFY!\n",
    "X = packX(range(100),3)\n",
    "y = np.sqrt(np.array(range(100)))\n",
    "theta = solveRidgeRegressionSystem(X,y,1)\n",
    "print('Check number: ', np.sum(theta))\n"
   ]
  },
  {
   "cell_type": "code",
   "execution_count": null,
   "metadata": {},
   "outputs": [],
   "source": []
  }
 ],
 "metadata": {
  "kernelspec": {
   "display_name": "Python 3 (ipykernel)",
   "language": "python",
   "name": "python3"
  },
  "language_info": {
   "codemirror_mode": {
    "name": "ipython",
    "version": 3
   },
   "file_extension": ".py",
   "mimetype": "text/x-python",
   "name": "python",
   "nbconvert_exporter": "python",
   "pygments_lexer": "ipython3",
   "version": "3.9.12"
  }
 },
 "nbformat": 4,
 "nbformat_minor": 4
}
