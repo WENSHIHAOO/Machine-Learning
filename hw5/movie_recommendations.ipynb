{
 "cells": [
  {
   "cell_type": "code",
   "execution_count": 1,
   "id": "8f3115c2-1b66-4888-b6d2-79afab90d0ec",
   "metadata": {},
   "outputs": [],
   "source": [
    "import numpy as np\n",
    "import matplotlib.pyplot as plt\n",
    "import pandas as pd\n",
    "from scipy.sparse import coo_matrix\n",
    "import pickle"
   ]
  },
  {
   "cell_type": "code",
   "execution_count": 2,
   "id": "bdbbea3d-3149-45e6-96f6-3ae365eadd3e",
   "metadata": {},
   "outputs": [
    {
     "data": {
      "text/plain": [
       "\"\\nimport copy\\n\\n#ratings_df = pd.read_csv('ml-latest/ratings.csv')\\nratings_test_df = pd.read_csv('ml-latest-small/ratings.csv')\\nprint(ratings_test_df.shape)\\nratings_df = ratings_test_df.sample(frac=0.33)\\nratings_test_df = ratings_test_df.drop(ratings_df.index)\\nratings_val_df = ratings_test_df.sample(frac=0.50)\\nratings_test_df = ratings_test_df.drop(ratings_val_df.index)\\nprint(ratings_df.shape,ratings_val_df.shape,ratings_test_df.shape)\\n\\n#hash everything\\nuser_idx = np.unique(ratings_df['userId'])\\nmovie_idx = np.unique(ratings_df['movieId'])\\n\\nratings_df_new = copy.deepcopy(ratings_df)\\nratings_val_df_new = copy.deepcopy(ratings_val_df)\\nratings_test_df_new = copy.deepcopy(ratings_test_df)\\nfor i in range(len(user_idx)):\\n    ratings_df_new.loc[ratings_df['userId']==user_idx[i], 'userId'] = i\\n    ratings_val_df_new.loc[ratings_val_df['userId']==user_idx[i], 'userId'] = i\\n    ratings_test_df_new.loc[ratings_test_df['userId']==user_idx[i], 'userId'] = i\\nfor j in range(len(movie_idx)):\\n    ratings_df_new.loc[ratings_df['movieId']==movie_idx[j], 'movieId'] = j\\n    ratings_val_df_new.loc[ratings_val_df['movieId']==movie_idx[j], 'movieId'] = j\\n    ratings_test_df_new.loc[ratings_test_df['movieId']==movie_idx[j], 'movieId'] = j\\n    \\n\\n\\npickle.dump({'ratings_df':ratings_df_new,'ratings_val_df':ratings_val_df_new,'ratings_test_df':ratings_test_df_new},open('movie_tables.pkl','wb'))\\n\""
      ]
     },
     "execution_count": 2,
     "metadata": {},
     "output_type": "execute_result"
    }
   ],
   "source": [
    "\n",
    "## Load and preprocess data, remove all users/movies from test data that do not appear in train data\n",
    "#look but don't touch.\n",
    "\"\"\"\n",
    "import copy\n",
    "\n",
    "#ratings_df = pd.read_csv('ml-latest/ratings.csv')\n",
    "ratings_test_df = pd.read_csv('ml-latest-small/ratings.csv')\n",
    "print(ratings_test_df.shape)\n",
    "ratings_df = ratings_test_df.sample(frac=0.33)\n",
    "ratings_test_df = ratings_test_df.drop(ratings_df.index)\n",
    "ratings_val_df = ratings_test_df.sample(frac=0.50)\n",
    "ratings_test_df = ratings_test_df.drop(ratings_val_df.index)\n",
    "print(ratings_df.shape,ratings_val_df.shape,ratings_test_df.shape)\n",
    "\n",
    "#hash everything\n",
    "user_idx = np.unique(ratings_df['userId'])\n",
    "movie_idx = np.unique(ratings_df['movieId'])\n",
    "\n",
    "ratings_df_new = copy.deepcopy(ratings_df)\n",
    "ratings_val_df_new = copy.deepcopy(ratings_val_df)\n",
    "ratings_test_df_new = copy.deepcopy(ratings_test_df)\n",
    "for i in range(len(user_idx)):\n",
    "    ratings_df_new.loc[ratings_df['userId']==user_idx[i], 'userId'] = i\n",
    "    ratings_val_df_new.loc[ratings_val_df['userId']==user_idx[i], 'userId'] = i\n",
    "    ratings_test_df_new.loc[ratings_test_df['userId']==user_idx[i], 'userId'] = i\n",
    "for j in range(len(movie_idx)):\n",
    "    ratings_df_new.loc[ratings_df['movieId']==movie_idx[j], 'movieId'] = j\n",
    "    ratings_val_df_new.loc[ratings_val_df['movieId']==movie_idx[j], 'movieId'] = j\n",
    "    ratings_test_df_new.loc[ratings_test_df['movieId']==movie_idx[j], 'movieId'] = j\n",
    "    \n",
    "\n",
    "\n",
    "pickle.dump({'ratings_df':ratings_df_new,'ratings_val_df':ratings_val_df_new,'ratings_test_df':ratings_test_df_new},open('movie_tables.pkl','wb'))\n",
    "\"\"\""
   ]
  },
  {
   "cell_type": "code",
   "execution_count": 3,
   "id": "de5f8c5e-0f5e-4cf3-8ba2-1d2a7d5f22a2",
   "metadata": {},
   "outputs": [
    {
     "name": "stdout",
     "output_type": "stream",
     "text": [
      "(610, 6381) 610 6381\n"
     ]
    }
   ],
   "source": [
    "data = pickle.load(open('movie_tables.pkl','rb'))\n",
    "ratings_df = data['ratings_df']\n",
    "ratings_val_df = data['ratings_val_df']\n",
    "ratings_test_df = data['ratings_test_df']\n",
    "R = coo_matrix((ratings_df['rating'], (ratings_df['userId'],ratings_df['movieId'])))\n",
    "\n",
    "print(R.shape, len(np.unique(R.row)), len(np.unique(R.col)))"
   ]
  },
  {
   "cell_type": "code",
   "execution_count": 4,
   "id": "bcd68d79-10ce-4720-8736-edd97a86c559",
   "metadata": {},
   "outputs": [],
   "source": [
    "#write a function that, given a list of uIDs and mIDs, returns the global average of the train set\n",
    "\n",
    "def predictor(uID,mID):\n",
    "    return global_avg*np.ones(len(uID)) # global average\n",
    "\n",
    "\n",
    "# fill in the RMSE functions, using the predictor as input.\n",
    "def get_rmse_train(predictor):\n",
    "    return 0\n",
    "def get_rmse_val(predictor):\n",
    "    return 0\n",
    "def get_rmse_test(predictor):\n",
    "    return 0"
   ]
  },
  {
   "cell_type": "code",
   "execution_count": 5,
   "id": "22ef768c-0655-4f40-8375-a0a367c9bc96",
   "metadata": {},
   "outputs": [],
   "source": [
    "\n",
    "\n",
    "def get_grad_ui(U,V,i):\n",
    "    return np.zeros(r)\n",
    "    \n",
    "def get_grad_vj(U,V,j):\n",
    "    return np.zeros(r)\n",
    "\n",
    "\n"
   ]
  },
  {
   "cell_type": "code",
   "execution_count": null,
   "id": "6c02ab3b-780e-43b1-81b4-5c1960cbb545",
   "metadata": {},
   "outputs": [],
   "source": []
  }
 ],
 "metadata": {
  "kernelspec": {
   "display_name": "Python 3 (ipykernel)",
   "language": "python",
   "name": "python3"
  },
  "language_info": {
   "codemirror_mode": {
    "name": "ipython",
    "version": 3
   },
   "file_extension": ".py",
   "mimetype": "text/x-python",
   "name": "python",
   "nbconvert_exporter": "python",
   "pygments_lexer": "ipython3",
   "version": "3.9.12"
  }
 },
 "nbformat": 4,
 "nbformat_minor": 5
}
